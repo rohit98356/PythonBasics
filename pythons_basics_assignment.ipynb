{
  "nbformat": 4,
  "nbformat_minor": 0,
  "metadata": {
    "colab": {
      "provenance": []
    },
    "kernelspec": {
      "name": "python3",
      "display_name": "Python 3"
    },
    "language_info": {
      "name": "python"
    }
  },
  "cells": [
    {
      "cell_type": "markdown",
      "source": [
        "# Python Basics"
      ],
      "metadata": {
        "id": "jVJsrW5a0yTY"
      }
    },
    {
      "cell_type": "markdown",
      "source": [
        "1. What is Python, and why is it popular?\n",
        "  - Python is a high-level, interpreted programming language known for its simplicity, readability, and flexibility.Python emphasizes code readability and allows developers to express concepts in fewer lines of code compared to other programming languages.\n",
        "2. What is an interpreter in Python?\n",
        "   - An interpreter in Python is a program that reads and executes Python code line by line.\n",
        "3. What are pre-defined keywords in Python?\n",
        "   - in Python, predefined keywords are a set of words that have a special meaning in the language and cannot be used as identifiers (such as variable names, function names, etc.). These keywords are part of the Python language syntax and serve as building blocks for the structure of the code.\n",
        "4. Can keywords be used as variable names?\n",
        "   - No, keywords cannot be used as variable names in Python. Keywords are reserved by the Python language for specific syntactical purposes and have predefined meanings.\n",
        "5. What is mutability in Python?\n",
        "   - In Python, mutability refers to the ability of an object to be modified after it has been created.\n",
        "6. Why are lists mutable, but tuples are immutable?\n",
        "   - The reason lists are mutable and tuples are immutable in Python is largely due to design decisions related to their intended uses, performance considerations, and the types of operations that are most efficient for each data structure.\n",
        "7. What is the difference between “==” and “is” operators in Python?\n",
        "   - In Python, the == and is operators are often confused because both are used to compare objects.\n",
        "8. What are logical operators in Python?\n",
        "   -  logical operators are used to combine multiple conditions or expressions and return a boolean result (True or False).\n",
        "9. What is type casting in Python?\n",
        "   - Type casting in Python refers to the conversion of one data type into another. Python provides mechanisms to explicitly or implicitly convert between various types of data such as integers, floats, strings, and booleans.\n",
        "10.  What is the difference between implicit and explicit type casting?\n",
        "     - The difference between implicit and explicit type casting in Python lies in how the conversion between data types occurs and who initiates the conversion.\n",
        "11.  What is the purpose of conditional statements in Python?     \n",
        "     - Conditional statements in Python allow you to execute specific blocks of code based on whether certain conditions are met. The purpose of conditional statements is to provide decision-making capabilities in a program.\n",
        "12. How does the elif statement work?\n",
        "    - The elif (short for \"else if\") statement in Python allows you to check multiple conditions sequentially.\n",
        "13.  What is the difference between for and while loops?\n",
        "     - Both for and while loops are used to repeat a block of code multiple times, but they operate in different ways and are suitable for different situations.\n",
        "14. Describe a scenario where a while loop is more suitable than a for loop?\n",
        "    - A while loop is more suitable than a for loop in scenarios where you want to repeat an action until a certain condition is met, and the number of iterations is unknown in advance. One common example is waiting for valid user input."
      ],
      "metadata": {
        "id": "LJeFsAl-1EhA"
      }
    },
    {
      "cell_type": "code",
      "execution_count": 3,
      "metadata": {
        "colab": {
          "base_uri": "https://localhost:8080/"
        },
        "id": "CS10NcBz0wPE",
        "outputId": "00539004-a81c-4b5d-ce82-add04cd5bcc1"
      },
      "outputs": [
        {
          "output_type": "stream",
          "name": "stdout",
          "text": [
            "hello, world!\n"
          ]
        }
      ],
      "source": [
        "# 1. Write a Python program to print \"Hello, World!_\n",
        "print(\"hello, world!\")\n"
      ]
    },
    {
      "cell_type": "code",
      "source": [
        "# 2. Write a Python program that displays your name and age\n",
        "name = \"Rohit\"\n",
        "age = \"18\"\n",
        "print(\"name:\", name)\n",
        "print(\"age:\", age)"
      ],
      "metadata": {
        "colab": {
          "base_uri": "https://localhost:8080/"
        },
        "id": "P88XKwdj86jG",
        "outputId": "bd9906b1-4a5d-4522-9521-c2fdc8920607"
      },
      "execution_count": 11,
      "outputs": [
        {
          "output_type": "stream",
          "name": "stdout",
          "text": [
            "name: Rohit\n",
            "age: 18\n"
          ]
        }
      ]
    },
    {
      "cell_type": "code",
      "source": [
        "# 3.  Write code to print all the pre-defined keywords in Python using the keyword library\n",
        "import keyword\n",
        "keywords = keyword.kwlist\n",
        "print(\"Keywords:\")\n",
        "for kw in keywords:\n",
        "    print(kw)\n"
      ],
      "metadata": {
        "colab": {
          "base_uri": "https://localhost:8080/"
        },
        "id": "foRyndAm9yMS",
        "outputId": "be56fb5e-38c3-462c-eb11-88938fd5638a"
      },
      "execution_count": 14,
      "outputs": [
        {
          "output_type": "stream",
          "name": "stdout",
          "text": [
            "Keywords:\n",
            "False\n",
            "None\n",
            "True\n",
            "and\n",
            "as\n",
            "assert\n",
            "async\n",
            "await\n",
            "break\n",
            "class\n",
            "continue\n",
            "def\n",
            "del\n",
            "elif\n",
            "else\n",
            "except\n",
            "finally\n",
            "for\n",
            "from\n",
            "global\n",
            "if\n",
            "import\n",
            "in\n",
            "is\n",
            "lambda\n",
            "nonlocal\n",
            "not\n",
            "or\n",
            "pass\n",
            "raise\n",
            "return\n",
            "try\n",
            "while\n",
            "with\n",
            "yield\n"
          ]
        }
      ]
    },
    {
      "cell_type": "code",
      "source": [
        "# 4. 0 Write a program that checks if a given word is a Python keyword\n",
        "import keyword\n",
        "def check_if_keyword(word):\n",
        "    if keyword.iskeyword(word):\n",
        "        print(f\"'{word}' is a Python keyword.\")\n",
        "    else:\n",
        "        print(f\"'{word}' is NOT a Python keyword.\")\n",
        "word = input(\"Enter a word to check if it's a Python keyword: \")\n",
        "check_if_keyword(word)\n",
        "\n",
        "\n",
        "\n"
      ],
      "metadata": {
        "colab": {
          "base_uri": "https://localhost:8080/"
        },
        "id": "VCYno3AN_Ut8",
        "outputId": "ba45fa5a-83c1-4cef-c017-d974d2816e93"
      },
      "execution_count": 21,
      "outputs": [
        {
          "output_type": "stream",
          "name": "stdout",
          "text": [
            "Enter a word to check if it's a Python keyword: g\n",
            "'g' is NOT a Python keyword.\n"
          ]
        }
      ]
    },
    {
      "cell_type": "code",
      "source": [
        "# 5. Create a list and tuple in Python, and demonstrate how attempting to change an element works differently for each\n",
        "# Create a list\n",
        "my_list = [1, 2, 3, 4, 5]\n",
        "print(\"Original List:\", my_list)\n",
        "my_list[2] = 10\n",
        "print(\"Modified List:\", my_list)\n",
        "#tuple\n",
        "my_tuple = (1, 2, 3, 4, 5)\n",
        "print(\"\\nOriginal Tuple:\", my_tuple)\n",
        "try:\n",
        "    my_tuple[2] = 10\n",
        "except TypeError as e:\n",
        "    print(f\"Error while modifying tuple: {e}\")\n"
      ],
      "metadata": {
        "colab": {
          "base_uri": "https://localhost:8080/"
        },
        "id": "t3x01TEADSjT",
        "outputId": "9ce50051-4ec3-4caa-9fce-ce8d176f95f1"
      },
      "execution_count": 22,
      "outputs": [
        {
          "output_type": "stream",
          "name": "stdout",
          "text": [
            "Original List: [1, 2, 3, 4, 5]\n",
            "Modified List: [1, 2, 10, 4, 5]\n",
            "\n",
            "Original Tuple: (1, 2, 3, 4, 5)\n",
            "Error while modifying tuple: 'tuple' object does not support item assignment\n"
          ]
        }
      ]
    },
    {
      "cell_type": "code",
      "source": [
        "# 6. Write a function to demonstrate the behavior of mutable and immutable arguments\n",
        "# In Python, when you pass mutable or immutable objects as arguments to a function, their behavior differs."
      ],
      "metadata": {
        "id": "_syp5E68DY4C"
      },
      "execution_count": 23,
      "outputs": []
    },
    {
      "cell_type": "code",
      "source": [
        "# 7. Write a function to demonstrate the behavior of mutable and immutable arguments\n",
        " #repeated question\n",
        ""
      ],
      "metadata": {
        "id": "yGveHq2AG0sz"
      },
      "execution_count": 24,
      "outputs": []
    },
    {
      "cell_type": "code",
      "source": [
        "# 8. Write a program to demonstrate the use of logical operators\n",
        "# Program to demonstrate the use of logical operators\n",
        "\n",
        "# Define some variables for the demonstration\n",
        "x = 10\n",
        "y = 5\n",
        "z = 15\n",
        "\n",
        "# Logical AND (both conditions must be True)\n",
        "print(\"Using 'and' operator:\")\n",
        "if x > y and z > x:\n",
        "    print(\"Both conditions are True: x > y and z > x\")\n",
        "else:\n",
        "    print(\"One or both conditions are False\")\n",
        "\n",
        "# Logical OR (at least one condition must be True)\n",
        "print(\"\\nUsing 'or' operator:\")\n",
        "if x < y or z > x:\n",
        "    print(\"At least one condition is True: x < y or z > x\")\n",
        "else:\n",
        "    print(\"Both conditions are False\")\n",
        "\n",
        "# Logical NOT (inverts the boolean value)\n",
        "print(\"\\nUsing 'not' operator:\")\n",
        "if not (x < y):\n",
        "    print(\"The negation of (x < y) is True, because x is not less than y\")\n",
        "else:\n",
        "    print(\"The negation of (x < y) is False\")\n"
      ],
      "metadata": {
        "colab": {
          "base_uri": "https://localhost:8080/"
        },
        "id": "L00YG9apHiZt",
        "outputId": "a1824c4f-7509-42f7-d718-9e1fb115ed48"
      },
      "execution_count": 25,
      "outputs": [
        {
          "output_type": "stream",
          "name": "stdout",
          "text": [
            "Using 'and' operator:\n",
            "Both conditions are True: x > y and z > x\n",
            "\n",
            "Using 'or' operator:\n",
            "At least one condition is True: x < y or z > x\n",
            "\n",
            "Using 'not' operator:\n",
            "The negation of (x < y) is True, because x is not less than y\n"
          ]
        }
      ]
    },
    {
      "cell_type": "code",
      "source": [
        "# 9. Write a Python program to convert user input from string to integer, float, and boolean types\n",
        "# Function to convert user input to different types\n",
        "def convert_input():\n",
        "    # Take user input as a string\n",
        "    user_input = input(\"Enter a value: \")\n",
        "\n",
        "    # Convert the input to integer, float, and boolean\n",
        "    try:\n",
        "        # Convert to integer\n",
        "        int_value = int(user_input)\n",
        "        print(f\"Converted to integer: {int_value}\")\n",
        "    except ValueError:\n",
        "        print(\"Could not convert to integer.\")\n",
        "\n",
        "    try:\n",
        "        # Convert to float\n",
        "        float_value = float(user_input)\n",
        "        print(f\"Converted to float: {float_value}\")\n",
        "    except ValueError:\n",
        "        print(\"Could not convert to float.\")\n",
        "\n",
        "    # Convert to boolean\n",
        "    # In Python, any non-empty string is considered True; an empty string is False\n",
        "    bool_value = bool(user_input)\n",
        "    print(f\"Converted to boolean: {bool_value}\")\n",
        "\n",
        "# Call the function\n",
        "convert_input()\n"
      ],
      "metadata": {
        "colab": {
          "base_uri": "https://localhost:8080/"
        },
        "id": "W7FLyTX_IACm",
        "outputId": "0e9310dc-7d6f-4e64-8614-c22e3751d1fd"
      },
      "execution_count": 26,
      "outputs": [
        {
          "output_type": "stream",
          "name": "stdout",
          "text": [
            "Enter a value: 40\n",
            "Converted to integer: 40\n",
            "Converted to float: 40.0\n",
            "Converted to boolean: True\n"
          ]
        }
      ]
    },
    {
      "cell_type": "code",
      "source": [
        "# 10. Write code to demonstrate type casting with list elements\n"
      ],
      "metadata": {
        "id": "p-BKD42RIbuK"
      },
      "execution_count": 27,
      "outputs": []
    },
    {
      "cell_type": "code",
      "source": [
        "# 11.\n",
        "# Function to check if a number is positive, negative, or zero\n",
        "def check_number(num):\n",
        "    if num > 0:\n",
        "        print(f\"{num} is positive.\")\n",
        "    elif num < 0:\n",
        "        print(f\"{num} is negative.\")\n",
        "    else:\n",
        "        print(f\"{num} is zero.\")\n",
        "\n"
      ],
      "metadata": {
        "id": "RKsXS6J1Jgrl"
      },
      "execution_count": 30,
      "outputs": []
    },
    {
      "cell_type": "code",
      "source": [
        "check_number(-1)"
      ],
      "metadata": {
        "colab": {
          "base_uri": "https://localhost:8080/"
        },
        "id": "DevxlQRsKXS7",
        "outputId": "7d41af11-bb39-41c2-ca14-a08c757fa875"
      },
      "execution_count": 32,
      "outputs": [
        {
          "output_type": "stream",
          "name": "stdout",
          "text": [
            "-1 is negative.\n"
          ]
        }
      ]
    },
    {
      "cell_type": "code",
      "source": [
        "# 12.  Write a for loop to print numbers from 1 to 100\n",
        "for number in range(1, 101):\n",
        "  print(number)"
      ],
      "metadata": {
        "colab": {
          "base_uri": "https://localhost:8080/"
        },
        "id": "KfeTv6yeKiAQ",
        "outputId": "36b16bf4-2ba0-46f8-fcaf-4064b1f0d2f2"
      },
      "execution_count": 33,
      "outputs": [
        {
          "output_type": "stream",
          "name": "stdout",
          "text": [
            "1\n",
            "2\n",
            "3\n",
            "4\n",
            "5\n",
            "6\n",
            "7\n",
            "8\n",
            "9\n",
            "10\n",
            "11\n",
            "12\n",
            "13\n",
            "14\n",
            "15\n",
            "16\n",
            "17\n",
            "18\n",
            "19\n",
            "20\n",
            "21\n",
            "22\n",
            "23\n",
            "24\n",
            "25\n",
            "26\n",
            "27\n",
            "28\n",
            "29\n",
            "30\n",
            "31\n",
            "32\n",
            "33\n",
            "34\n",
            "35\n",
            "36\n",
            "37\n",
            "38\n",
            "39\n",
            "40\n",
            "41\n",
            "42\n",
            "43\n",
            "44\n",
            "45\n",
            "46\n",
            "47\n",
            "48\n",
            "49\n",
            "50\n",
            "51\n",
            "52\n",
            "53\n",
            "54\n",
            "55\n",
            "56\n",
            "57\n",
            "58\n",
            "59\n",
            "60\n",
            "61\n",
            "62\n",
            "63\n",
            "64\n",
            "65\n",
            "66\n",
            "67\n",
            "68\n",
            "69\n",
            "70\n",
            "71\n",
            "72\n",
            "73\n",
            "74\n",
            "75\n",
            "76\n",
            "77\n",
            "78\n",
            "79\n",
            "80\n",
            "81\n",
            "82\n",
            "83\n",
            "84\n",
            "85\n",
            "86\n",
            "87\n",
            "88\n",
            "89\n",
            "90\n",
            "91\n",
            "92\n",
            "93\n",
            "94\n",
            "95\n",
            "96\n",
            "97\n",
            "98\n",
            "99\n",
            "100\n"
          ]
        }
      ]
    },
    {
      "cell_type": "code",
      "source": [
        "# 13. Write a Python program to find the sum of all even numbers between 1 and 50\n",
        "sum_of_even_numbers = 0\n",
        "for number in range(1, 51):\n",
        "    if number % 2 == 0:\n",
        "        sum_of_even_numbers += number\n",
        "print(\"The sum of all even numbers between 1 and 50 is:\", sum_of_even_numbers)\n",
        "\n"
      ],
      "metadata": {
        "colab": {
          "base_uri": "https://localhost:8080/"
        },
        "id": "2vOk_5_4LEc8",
        "outputId": "a988a83a-703d-4308-ce3b-83a9036f9d25"
      },
      "execution_count": 36,
      "outputs": [
        {
          "output_type": "stream",
          "name": "stdout",
          "text": [
            "The sum of all even numbers between 1 and 50 is: 650\n"
          ]
        }
      ]
    },
    {
      "cell_type": "code",
      "source": [
        "# 14. Write a program to reverse a string using a while loop\n",
        "def reverse_string(input_string):\n",
        "    reversed_string = \"\"\n",
        "    index = len(input_string) - 1\n",
        "    while index >= 0:\n",
        "        reversed_string += input_string[index]\n",
        "        index -= 1\n",
        "    return reversed_string\n",
        "\n",
        "# Input string\n",
        "user_input = input(\"Enter a string: \")\n",
        "reversed_result = reverse_string(user_input)\n",
        "print(\"Reversed string:\", reversed_result)\n"
      ],
      "metadata": {
        "colab": {
          "base_uri": "https://localhost:8080/"
        },
        "id": "Qm8o3rWPLdHf",
        "outputId": "0e1b1ab2-9b36-4d84-e0f9-37c16a25ce32"
      },
      "execution_count": 37,
      "outputs": [
        {
          "output_type": "stream",
          "name": "stdout",
          "text": [
            "Enter a string: add\n",
            "Reversed string: dda\n"
          ]
        }
      ]
    },
    {
      "cell_type": "code",
      "source": [
        "# 15. Write a Python program to calculate the factorial of a number provided by the user using a while loop.\n",
        "# Function to calculate factorial using a while loop\n",
        "def calculate_factorial(number):\n",
        "    result = 1\n",
        "    while number > 1:\n",
        "        result *= number\n",
        "        number -= 1\n",
        "    return result\n",
        "try:\n",
        "    user_input = int(input(\"Enter a number to calculate its factorial: \"))\n",
        "\n",
        "    # Check if the number is negative, factorial of negative numbers is not defined\n",
        "    if user_input < 0:\n",
        "        print(\"Factorial is not defined for negative numbers.\")\n",
        "    else:\n",
        "        factorial_result = calculate_factorial(user_input)\n",
        "        print(f\"The factorial of {user_input} is: {factorial_result}\")\n",
        "except ValueError:\n",
        "    print(\"Please enter a valid integer.\")\n"
      ],
      "metadata": {
        "colab": {
          "base_uri": "https://localhost:8080/"
        },
        "id": "NbR3ncDhMyGa",
        "outputId": "da948bbe-6fd1-4c5a-cb65-96ac617a5a6b"
      },
      "execution_count": 38,
      "outputs": [
        {
          "output_type": "stream",
          "name": "stdout",
          "text": [
            "Enter a number to calculate its factorial: 6\n",
            "The factorial of 6 is: 720\n"
          ]
        }
      ]
    },
    {
      "cell_type": "code",
      "source": [],
      "metadata": {
        "id": "fTPeinBBNaKY"
      },
      "execution_count": null,
      "outputs": []
    }
  ]
}